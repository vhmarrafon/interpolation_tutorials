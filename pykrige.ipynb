{
 "cells": [
  {
   "cell_type": "code",
   "execution_count": 4,
   "id": "d38b28ba",
   "metadata": {},
   "outputs": [],
   "source": [
    "import os\n",
    "import logging\n",
    "import warnings\n",
    "warnings.filterwarnings('ignore')\n",
    "from datetime import datetime\n",
    "\n",
    "import numpy as np\n",
    "import pandas as pd\n",
    "\n",
    "import matplotlib.pyplot as plt\n",
    "\n",
    "from pykrige.ok import OrdinaryKriging\n",
    "from pykrige.uk import UniversalKriging\n",
    "\n",
    "from library.commons import check_parameters\n",
    "from library.datahub import gen_etopo, get_station_data, open_topo\n",
    "\n",
    "# config logging\n",
    "logging.basicConfig(level=logging.INFO, format='%(asctime)s - %(levelname)s - %(message)s')"
   ]
  },
  {
   "cell_type": "markdown",
   "id": "2e11e14b",
   "metadata": {},
   "source": [
    "# Setup"
   ]
  },
  {
   "cell_type": "code",
   "execution_count": 24,
   "id": "2bd43c18",
   "metadata": {},
   "outputs": [],
   "source": [
    "# set your domain, lon_min, lon_max, lat_min, lat_max\n",
    "DOMAIN = [-80, -25, -60, 15]\n",
    "\n",
    "# set your horizontal resolution in degrees\n",
    "RES = 0.25\n",
    "\n",
    "# set variables list\n",
    "variables = ['tmax', 'tmin']\n",
    "\n",
    "# set your start and end date\n",
    "START_DATE = datetime(2024, 1, 1)\n",
    "END_DATE = datetime(2024, 1, 1)\n",
    "\n",
    "# set interpolation kwargs\n",
    "interpol_kwargs = {\n",
    "    \"variogram_model\": 'linear',\n",
    "    \"verbose\": False,\n",
    "    \"enable_plotting\": False,\n",
    "    \"exact_values\": True,\n",
    "    \"coordinates_type\": 'geographic',\n",
    "    \"pseudo_inv\": True\n",
    "}\n",
    "\n",
    "# if true the lapse rate will be applied to make interpolate all station in the same altitude level\n",
    "TEMPERATURE_VARS = True\n",
    "\n",
    "# dry adiabatic lapse rate (9.8 °C/km)\n",
    "LAPSE_RATE = 9.8 \n",
    "\n",
    "# if true, save intermediate files, seeking to reduce the use of external APIs (meteostat and open topo data)\n",
    "SAVE_STATIC_FILES = True\n",
    "\n",
    "# set engine to handle with netcdf files\n",
    "nc_engine = 'netcdf4'  # options 'netcdf4' and 'xarray'"
   ]
  },
  {
   "cell_type": "markdown",
   "id": "08913182",
   "metadata": {},
   "source": [
    "# Checkings"
   ]
  },
  {
   "cell_type": "markdown",
   "id": "80bed608",
   "metadata": {},
   "source": [
    "Let's check the consistence of our settings before starting the process"
   ]
  },
  {
   "cell_type": "code",
   "execution_count": 10,
   "id": "580c850c",
   "metadata": {},
   "outputs": [
    {
     "data": {
      "text/plain": [
       "True"
      ]
     },
     "execution_count": 10,
     "metadata": {},
     "output_type": "execute_result"
    }
   ],
   "source": [
    "NC_ENGINE = nc_engine.lower()  # avoid upper case errors\n",
    "VARIABLES = [variables] if not isinstance(variables, list) else variables  # check right type\n",
    "\n",
    "# this function will raise an error if the params are not consistents\n",
    "check_parameters(NC_ENGINE, DOMAIN, RES, START_DATE, END_DATE, VARIABLES)"
   ]
  },
  {
   "cell_type": "markdown",
   "id": "c9823ad3",
   "metadata": {},
   "source": [
    "# Pre-processing"
   ]
  },
  {
   "cell_type": "code",
   "execution_count": 11,
   "id": "1a67ac2c",
   "metadata": {},
   "outputs": [],
   "source": [
    "# set interpolated grid parameters\n",
    "grid_lat = np.arange(DOMAIN[-2], DOMAIN[-1] + RES, RES)\n",
    "grid_lon = np.arange(DOMAIN[0], DOMAIN[1] + RES, RES)\n",
    "\n",
    "dates = pd.date_range(start=START_DATE, end=END_DATE, freq='1D').to_pydatetime()\n"
   ]
  },
  {
   "cell_type": "markdown",
   "id": "40d3d5ae",
   "metadata": {},
   "source": [
    "# Getting stations file"
   ]
  },
  {
   "cell_type": "markdown",
   "id": "9b9cffae",
   "metadata": {},
   "source": [
    "For educational purposes, we'll use Meteostat to retrieve data from weather stations; any other CSV file can be used as long as it follows the same format.\n",
    "\n",
    "It must be the following columns: station (which informs the id or name string), latitude, longitude and elevation, the column(s) with VARIABLES defined in setup is(are) necessary as well"
   ]
  },
  {
   "cell_type": "code",
   "execution_count": 12,
   "id": "c4bb27b2",
   "metadata": {},
   "outputs": [
    {
     "name": "stderr",
     "output_type": "stream",
     "text": [
      "2024-09-30 22:18:03,581 - INFO - opening weather station file @ static/stations_-80_-25_-60_15_20240101_20240101.csv\n"
     ]
    },
    {
     "data": {
      "text/html": [
       "<div>\n",
       "<style scoped>\n",
       "    .dataframe tbody tr th:only-of-type {\n",
       "        vertical-align: middle;\n",
       "    }\n",
       "\n",
       "    .dataframe tbody tr th {\n",
       "        vertical-align: top;\n",
       "    }\n",
       "\n",
       "    .dataframe thead th {\n",
       "        text-align: right;\n",
       "    }\n",
       "</style>\n",
       "<table border=\"1\" class=\"dataframe\">\n",
       "  <thead>\n",
       "    <tr style=\"text-align: right;\">\n",
       "      <th></th>\n",
       "      <th>time</th>\n",
       "      <th>station</th>\n",
       "      <th>latitude</th>\n",
       "      <th>longitude</th>\n",
       "      <th>elevation</th>\n",
       "      <th>tmax</th>\n",
       "      <th>tmin</th>\n",
       "    </tr>\n",
       "  </thead>\n",
       "  <tbody>\n",
       "    <tr>\n",
       "      <th>0</th>\n",
       "      <td>2024-01-01</td>\n",
       "      <td>69377</td>\n",
       "      <td>4.0700</td>\n",
       "      <td>-73.5500</td>\n",
       "      <td>378.0</td>\n",
       "      <td>31.2</td>\n",
       "      <td>21.0</td>\n",
       "    </tr>\n",
       "    <tr>\n",
       "      <th>1</th>\n",
       "      <td>2024-01-01</td>\n",
       "      <td>78792</td>\n",
       "      <td>9.0500</td>\n",
       "      <td>-79.3667</td>\n",
       "      <td>45.0</td>\n",
       "      <td>32.0</td>\n",
       "      <td>24.0</td>\n",
       "    </tr>\n",
       "    <tr>\n",
       "      <th>2</th>\n",
       "      <td>2024-01-01</td>\n",
       "      <td>78808</td>\n",
       "      <td>8.9833</td>\n",
       "      <td>-79.5500</td>\n",
       "      <td>66.0</td>\n",
       "      <td>33.0</td>\n",
       "      <td>25.0</td>\n",
       "    </tr>\n",
       "    <tr>\n",
       "      <th>3</th>\n",
       "      <td>2024-01-01</td>\n",
       "      <td>78922</td>\n",
       "      <td>14.7667</td>\n",
       "      <td>-60.8833</td>\n",
       "      <td>33.0</td>\n",
       "      <td>28.1</td>\n",
       "      <td>23.7</td>\n",
       "    </tr>\n",
       "    <tr>\n",
       "      <th>4</th>\n",
       "      <td>2024-01-01</td>\n",
       "      <td>78925</td>\n",
       "      <td>14.6000</td>\n",
       "      <td>-61.0000</td>\n",
       "      <td>5.0</td>\n",
       "      <td>30.0</td>\n",
       "      <td>22.0</td>\n",
       "    </tr>\n",
       "  </tbody>\n",
       "</table>\n",
       "</div>"
      ],
      "text/plain": [
       "        time station  latitude  longitude  elevation  tmax  tmin\n",
       "0 2024-01-01   69377    4.0700   -73.5500      378.0  31.2  21.0\n",
       "1 2024-01-01   78792    9.0500   -79.3667       45.0  32.0  24.0\n",
       "2 2024-01-01   78808    8.9833   -79.5500       66.0  33.0  25.0\n",
       "3 2024-01-01   78922   14.7667   -60.8833       33.0  28.1  23.7\n",
       "4 2024-01-01   78925   14.6000   -61.0000        5.0  30.0  22.0"
      ]
     },
     "execution_count": 12,
     "metadata": {},
     "output_type": "execute_result"
    }
   ],
   "source": [
    "# set specified domain to get weather station data, format (domain_top, domain_left), (domain_bottom, domain_right)\n",
    "ws_outpath = f\"static/stations_{DOMAIN[0]}_{DOMAIN[1]}_{DOMAIN[2]}_{DOMAIN[3]}_{START_DATE:%Y%m%d}_{END_DATE:%Y%m%d}.csv\"\n",
    "\n",
    "if os.path.exists(ws_outpath):\n",
    "    logging.info(f\"opening weather station file @ {ws_outpath}\")\n",
    "    daily_data = pd.read_csv(ws_outpath)\n",
    "    \n",
    "else:\n",
    "\n",
    "    # get weather station data using meteostat\n",
    "    daily_data = get_station_data(DOMAIN, START_DATE, END_DATE)\n",
    "    \n",
    "    if SAVE_STATIC_FILES:\n",
    "        logging.info(f\"creating csv with data station @ {ws_outpath}\")\n",
    "        daily_data.to_csv(ws_outpath)\n",
    "    \n",
    "# dropna and select columns\n",
    "to_select_colunms = ['time', 'station', 'latitude', 'longitude', 'elevation'] + VARIABLES\n",
    "\n",
    "try:\n",
    "    daily_data = daily_data.dropna(subset=VARIABLES).reset_index()\n",
    "    daily_data = daily_data.loc[:, to_select_colunms]\n",
    "\n",
    "except KeyError as e:\n",
    "    raise KeyError(f\"there are variables not found in dataframe columns @ {e}\")\n",
    "\n",
    "daily_data['time'] = pd.to_datetime(daily_data['time'])\n",
    "\n",
    "daily_data.head()"
   ]
  },
  {
   "cell_type": "code",
   "execution_count": 13,
   "id": "2925c0fa",
   "metadata": {},
   "outputs": [
    {
     "data": {
      "image/png": "[encoded data removed]",
      "text/plain": [
       "<Figure size 360x576 with 1 Axes>"
      ]
     },
     "metadata": {
      "needs_background": "light"
     },
     "output_type": "display_data"
    }
   ],
   "source": [
    "# a simple plot just to check the weather stations distribution\n",
    "fig, ax = plt.subplots(figsize=(5, 8))\n",
    "ax.scatter(daily_data['longitude'].values, daily_data['latitude'].values, s=5)\n",
    "ax.set_title(f\"Weather station distribution\", weight='bold')\n",
    "plt.show()\n",
    "plt.close()"
   ]
  },
  {
   "cell_type": "markdown",
   "id": "cdcfe4e9",
   "metadata": {},
   "source": [
    "# Opening topography file"
   ]
  },
  {
   "cell_type": "markdown",
   "id": "940e3137",
   "metadata": {},
   "source": [
    "You can use another topography file, the final topo array must be in meters unit"
   ]
  },
  {
   "cell_type": "code",
   "execution_count": 14,
   "id": "5cf3017b",
   "metadata": {},
   "outputs": [],
   "source": [
    "topo_pathfile = f'static/ETOPO_lon_{DOMAIN[0]}_{DOMAIN[1]}_lat_{DOMAIN[2]}_{DOMAIN[3]}_r{RES}.nc'\n",
    "should_open_topo = True\n",
    "\n",
    "# you can use a specific topography file\n",
    "# to ensure the right progress of the code, the netcdf file must be the following pattern\n",
    "# dimensions: y (with latitude values in degrees) ; x (with longitude values in degrees)\n",
    "# variable: z (y, x) - 2D array with elevation values in meters\n",
    "\n",
    "# topo_pathfile = 'static/<your_netcdf_topography_file>.nc'  \n",
    "\n",
    "\n",
    "# create etopo file from opentopodata api, it may take some time according to domain and horizontal resolution \n",
    "if not os.path.exists(topo_pathfile):\n",
    "    if SAVE_STATIC_FILES:\n",
    "        logging.info(f'Creating topo file for specific domain and resolution @ {DOMAIN} - {RES}')\n",
    "        gen_etopo(grid_lat, grid_lon, topo_pathfile=topo_pathfile)\n",
    "        \n",
    "    else:\n",
    "        topo = gen_etopo(grid_lat, grid_lon, topo_pathfile=topo_pathfile, save_output=False)\n",
    "        should_open_topo = False\n",
    "        \n"
   ]
  },
  {
   "cell_type": "code",
   "execution_count": 15,
   "id": "43bbf859",
   "metadata": {},
   "outputs": [
    {
     "name": "stderr",
     "output_type": "stream",
     "text": [
      "2024-09-30 22:18:09,967 - INFO - \n",
      "Checking boundaries:\n",
      "    expected domain: [-80, -25, -60, 15]\n",
      "    lats: (-60.0, 15.0)\n",
      "    lons: (-80.0, -25.0)\n",
      "        \n"
     ]
    },
    {
     "name": "stdout",
     "output_type": "stream",
     "text": [
      "CPU times: user 81.1 ms, sys: 12.2 ms, total: 93.3 ms\n",
      "Wall time: 98.1 ms\n"
     ]
    },
    {
     "data": {
      "text/plain": [
       "<matplotlib.image.AxesImage at 0x75b7a84fa430>"
      ]
     },
     "execution_count": 15,
     "metadata": {},
     "output_type": "execute_result"
    },
    {
     "data": {
      "image/png": "[encoded data removed]",
      "text/plain": [
       "<Figure size 432x288 with 1 Axes>"
      ]
     },
     "metadata": {
      "needs_background": "light"
     },
     "output_type": "display_data"
    }
   ],
   "source": [
    "%%time\n",
    "if should_open_topo:\n",
    "    topo, lats_, lons_ = open_topo(topo_pathfile, grid_lat, grid_lon, nc_engine=NC_ENGINE)\n",
    "    \n",
    "    logging.info(\n",
    "        f\"\"\"\n",
    "Checking boundaries:\n",
    "    expected domain: {DOMAIN}\n",
    "    lats: {lats_[0], lats_[-1]}\n",
    "    lons: {lons_[0], lons_[-1]}\n",
    "        \"\"\"\n",
    "         )\n",
    "\n",
    "topo[topo < 0] = 0  # avoid negative altitudes\n",
    "plt.imshow(topo[::-1])"
   ]
  },
  {
   "cell_type": "markdown",
   "id": "c60e9f86",
   "metadata": {},
   "source": [
    "# Uniform elevations functions"
   ]
  },
  {
   "cell_type": "markdown",
   "id": "e6d5c31b",
   "metadata": {},
   "source": [
    "Let's define functions to include topography in temperature variables, using the lapse rate value defined in setup"
   ]
  },
  {
   "cell_type": "code",
   "execution_count": 16,
   "id": "e3bb5694",
   "metadata": {},
   "outputs": [],
   "source": [
    "@np.vectorize\n",
    "def alt2ground(arr, topo):\n",
    "    '''\n",
    "    going down with station data from elevation to sea level\n",
    "    \n",
    "    :param arr: np.array (1D)  - weather station temperature values\n",
    "    :param topo: np.array (1D) - weather station elevation (in meters)\n",
    "    '''\n",
    "    return arr + LAPSE_RATE * (topo/1000)\n",
    "\n",
    "@np.vectorize\n",
    "def ground2alt(arr, topo):\n",
    "    '''\n",
    "    going up with interpolation result to surface elevation\n",
    "    \n",
    "    :param arr: np.array (2D)  - interpolated temperature values\n",
    "    :param topo: np.array (2D) - topography grid array (in meters)\n",
    "    '''\n",
    "    return arr - LAPSE_RATE * (topo/1000)"
   ]
  },
  {
   "cell_type": "markdown",
   "id": "fda828c7",
   "metadata": {},
   "source": [
    "# Applying interpol"
   ]
  },
  {
   "cell_type": "code",
   "execution_count": 25,
   "id": "c359baeb",
   "metadata": {},
   "outputs": [
    {
     "name": "stderr",
     "output_type": "stream",
     "text": [
      "2024-09-30 22:29:27,845 - INFO - Starting tmax interpolation @ 20240101\n",
      "2024-09-30 22:29:49,638 - INFO - Interpolation of tmax on 20240101 done\n",
      "2024-09-30 22:29:49,639 - INFO - Starting tmin interpolation @ 20240101\n",
      "2024-09-30 22:30:10,483 - INFO - Interpolation of tmin on 20240101 done\n"
     ]
    }
   ],
   "source": [
    "interpolated_ds = {}\n",
    "times = daily_data['time'].unique()\n",
    "for variable in VARIABLES:\n",
    "    interpolated_ds[variable] = []\n",
    "    \n",
    "    for date in times:\n",
    "        \n",
    "        logging.info(f\"Starting {variable} interpolation @ {date:%Y%m%d}\")\n",
    "        \n",
    "        df_date = daily_data.loc[daily_data['time'] == date]\n",
    "        \n",
    "        values_ws = df_date[variable].values\n",
    "        lats_ws = df_date['latitude'].values\n",
    "        lons_ws = df_date['longitude'].values\n",
    "        elevation_ws = df_date['elevation'].values\n",
    "\n",
    "        if TEMPERATURE_VARS:\n",
    "            values_ws = alt2ground(values_ws, elevation_ws)\n",
    "\n",
    "        OK = OrdinaryKriging(lons_ws,\n",
    "                             lats_ws,\n",
    "                             values_ws,\n",
    "                             **interpol_kwargs)\n",
    "\n",
    "        # using mask to restrict the region\n",
    "        grid, ss = OK.execute('grid', grid_lon, grid_lat)\n",
    "\n",
    "        if TEMPERATURE_VARS:\n",
    "            grid = ground2alt(grid, topo)\n",
    "\n",
    "        interpolated_ds[variable].append(grid) \n",
    "\n",
    "        logging.info(f\"Interpolation of {variable} on {date:%Y%m%d} done\")"
   ]
  },
  {
   "cell_type": "code",
   "execution_count": 26,
   "id": "8351312b",
   "metadata": {},
   "outputs": [
    {
     "data": {
      "text/plain": [
       "<matplotlib.image.AxesImage at 0x75b78fd52a00>"
      ]
     },
     "execution_count": 26,
     "metadata": {},
     "output_type": "execute_result"
    },
    {
     "data": {
      "image/png": "[encoded data removed]",
      "text/plain": [
       "<Figure size 432x288 with 1 Axes>"
      ]
     },
     "metadata": {
      "needs_background": "light"
     },
     "output_type": "display_data"
    }
   ],
   "source": [
    "plt.imshow(interpolated_ds[variable][0][::-1])"
   ]
  },
  {
   "cell_type": "code",
   "execution_count": 21,
   "id": "59b5a9c7",
   "metadata": {},
   "outputs": [
    {
     "data": {
      "text/plain": [
       "9407.282265633736"
      ]
     },
     "execution_count": 21,
     "metadata": {},
     "output_type": "execute_result"
    }
   ],
   "source": [
    "interpolated_ds[variable][0].max()"
   ]
  },
  {
   "cell_type": "code",
   "execution_count": 22,
   "id": "8b603170",
   "metadata": {},
   "outputs": [
    {
     "data": {
      "text/plain": [
       "-3177.7657510602266"
      ]
     },
     "execution_count": 22,
     "metadata": {},
     "output_type": "execute_result"
    }
   ],
   "source": [
    "interpolated_ds[variable][0].min()"
   ]
  },
  {
   "cell_type": "code",
   "execution_count": 23,
   "id": "edf0effe",
   "metadata": {},
   "outputs": [
    {
     "data": {
      "text/plain": [
       "-53.97103617049959"
      ]
     },
     "execution_count": 23,
     "metadata": {},
     "output_type": "execute_result"
    }
   ],
   "source": [
    "interpolated_ds[variable][0].mean()"
   ]
  },
  {
   "cell_type": "code",
   "execution_count": null,
   "id": "f1683a34",
   "metadata": {},
   "outputs": [],
   "source": []
  }
 ],
 "metadata": {
  "kernelspec": {
   "display_name": "metpy",
   "language": "python",
   "name": "metpy"
  },
  "language_info": {
   "codemirror_mode": {
    "name": "ipython",
    "version": 3
   },
   "file_extension": ".py",
   "mimetype": "text/x-python",
   "name": "python",
   "nbconvert_exporter": "python",
   "pygments_lexer": "ipython3",
   "version": "3.9.12"
  }
 },
 "nbformat": 4,
 "nbformat_minor": 5
}
