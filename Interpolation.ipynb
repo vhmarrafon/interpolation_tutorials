{
 "cells": [
  {
   "cell_type": "code",
   "execution_count": 1,
   "id": "d38b28ba",
   "metadata": {},
   "outputs": [],
   "source": [
    "import warnings\n",
    "warnings.filterwarnings('ignore')\n",
    "from datetime import datetime\n",
    "\n",
    "import numpy as np\n",
    "import pandas as pd\n",
    "import geopandas as gpd\n",
    "import xarray as xr\n",
    "import meteostat as mt\n",
    "from netCDF4 import Dataset\n",
    "import matplotlib.pyplot as plt\n",
    "from shapely.geometry import Point\n",
    "from scipy.interpolate import griddata\n",
    "from metpy.interpolate import interpolate_to_grid\n"
   ]
  },
  {
   "cell_type": "markdown",
   "id": "2e11e14b",
   "metadata": {},
   "source": [
    "# Setup"
   ]
  },
  {
   "cell_type": "code",
   "execution_count": 2,
   "id": "2bd43c18",
   "metadata": {},
   "outputs": [],
   "source": [
    "# set your domain, lon_min, lon_max, lat_min, lat_max\n",
    "DOMAIN = [-80, -25, -60, 15]\n",
    "\n",
    "# set your horizontal resolution in degrees\n",
    "RES = 0.25\n",
    "\n",
    "# set variables list\n",
    "variables = ['tmax', 'tmin']\n",
    "\n",
    "# set your start and end date\n",
    "START_DATE = datetime(2024, 1, 1)\n",
    "END_DATE = datetime(2024, 1, 1)\n",
    "\n",
    "# set interpolation kwargs\n",
    "interpol_kwargs = {\n",
    "    \"interp_type\": \"cressman\",\n",
    "    \"minimum_neighbors\": 2,\n",
    "    \"search_radius\": 10,\n",
    "    \"hres\": RES\n",
    "}\n",
    "\n",
    "# if true the lapse rate will be applied to make interpolate all station in the same altitude level\n",
    "TEMPERATURE_VARS = True\n",
    "\n",
    "# dry adiabatic lapse rate (9.8 °C/km)\n",
    "LAPSE_RATE = 9.8 \n",
    "\n",
    "# set engine to handle with netcdf files\n",
    "nc_engine = 'xarray'  # options 'netcdf4' and 'xarray'"
   ]
  },
  {
   "cell_type": "markdown",
   "id": "0c673278",
   "metadata": {},
   "source": [
    "# Checkings"
   ]
  },
  {
   "cell_type": "code",
   "execution_count": 3,
   "id": "27f72a3a",
   "metadata": {},
   "outputs": [],
   "source": [
    "NC_ENGINE = nc_engine.lower()  # avoid upper case errors\n",
    "VARIABLES = [variables] if not isinstance(variables, list) else variables  # check right type\n",
    "\n",
    "if NC_ENGINE not in ['netcdf4', 'xarray']:\n",
    "    raise ValueError(f\"invalid NC_ENGINE @ {NC_ENGINE} choose 'xarray' or 'netcdf4'\")\n",
    "    \n",
    "\n",
    "# Check DOMAIN\n",
    "if DOMAIN[0] >= DOMAIN[1]:\n",
    "    raise ValueError(f\"invalid domain, initial longitude {DOMAIN[0]} must be lower than final one {DOMAIN[1]}\")\n",
    "    \n",
    "if DOMAIN[2] >= DOMAIN[3]:\n",
    "    raise ValueError(f\"invalid domain, initial latitude {DOMAIN[2]} must be lower than final one {DOMAIN[3]}\")\n",
    "    \n",
    "if RES <= 0:\n",
    "    raise ValueError(f\"invalid resolution, resolution must be higher than 0, {RES} passed\")\n",
    "    \n",
    "# Check date\n",
    "if START_DATE > END_DATE:\n",
    "    raise ValueError(f\"invalid date definition, start date {START_DATE} must be higher or equal end date {END_DATE}\")\n",
    "    \n",
    "    \n",
    "# Check if variables are defined\n",
    "if not VARIABLES:\n",
    "    raise ValueError(f\"VARIABLES must be defined\")"
   ]
  },
  {
   "cell_type": "markdown",
   "id": "fcdc3d58",
   "metadata": {},
   "source": [
    "# Pre-processing"
   ]
  },
  {
   "cell_type": "code",
   "execution_count": 4,
   "id": "4639ec12",
   "metadata": {},
   "outputs": [
    {
     "data": {
      "text/plain": [
       "{'interp_type': 'cressman',\n",
       " 'minimum_neighbors': 2,\n",
       " 'search_radius': 10,\n",
       " 'hres': 0.25,\n",
       " 'boundary_coords': {'west': -80.0,\n",
       "  'south': -60.0,\n",
       "  'east': -25.0,\n",
       "  'north': 15.0}}"
      ]
     },
     "execution_count": 4,
     "metadata": {},
     "output_type": "execute_result"
    }
   ],
   "source": [
    "# set interpolated grid parameters\n",
    "grid_lat = np.arange(DOMAIN[-2], DOMAIN[-1] + RES, RES)\n",
    "grid_lon = np.arange(DOMAIN[0], DOMAIN[1] + RES, RES)\n",
    "\n",
    "dates = pd.date_range(start=START_DATE, end=END_DATE, freq='1D').to_pydatetime()\n",
    "\n",
    "boundary_coords = {\n",
    "        'west': grid_lon.min(),\n",
    "        'south': grid_lat.min(),\n",
    "        'east': grid_lon.max(),\n",
    "        'north': grid_lat.max()\n",
    "    }\n",
    "\n",
    "interpol_kwargs.update(dict(boundary_coords=boundary_coords))\n",
    "interpol_kwargs"
   ]
  },
  {
   "cell_type": "markdown",
   "id": "40d3d5ae",
   "metadata": {},
   "source": [
    "# Getting stations file"
   ]
  },
  {
   "cell_type": "markdown",
   "id": "9b9cffae",
   "metadata": {},
   "source": [
    "For educational purposes, we will use Meteostat to retrieve data from weather stations; any other CSV file can be used as long as it follows the same format.\n",
    "\n",
    "It must be station (id or name), latitude, longitude and elevation columns, the column(s) with VARIABLES defined in setup is necessary as well"
   ]
  },
  {
   "cell_type": "code",
   "execution_count": 5,
   "id": "c4bb27b2",
   "metadata": {},
   "outputs": [
    {
     "data": {
      "text/html": [
       "<div>\n",
       "<style scoped>\n",
       "    .dataframe tbody tr th:only-of-type {\n",
       "        vertical-align: middle;\n",
       "    }\n",
       "\n",
       "    .dataframe tbody tr th {\n",
       "        vertical-align: top;\n",
       "    }\n",
       "\n",
       "    .dataframe thead th {\n",
       "        text-align: right;\n",
       "    }\n",
       "</style>\n",
       "<table border=\"1\" class=\"dataframe\">\n",
       "  <thead>\n",
       "    <tr style=\"text-align: right;\">\n",
       "      <th></th>\n",
       "      <th>time</th>\n",
       "      <th>station</th>\n",
       "      <th>latitude</th>\n",
       "      <th>longitude</th>\n",
       "      <th>elevation</th>\n",
       "      <th>tmax</th>\n",
       "      <th>tmin</th>\n",
       "    </tr>\n",
       "  </thead>\n",
       "  <tbody>\n",
       "    <tr>\n",
       "      <th>0</th>\n",
       "      <td>2024-01-01</td>\n",
       "      <td>69377</td>\n",
       "      <td>4.0700</td>\n",
       "      <td>-73.5500</td>\n",
       "      <td>378.0</td>\n",
       "      <td>31.2</td>\n",
       "      <td>21.0</td>\n",
       "    </tr>\n",
       "    <tr>\n",
       "      <th>1</th>\n",
       "      <td>2024-01-01</td>\n",
       "      <td>78792</td>\n",
       "      <td>9.0500</td>\n",
       "      <td>-79.3667</td>\n",
       "      <td>45.0</td>\n",
       "      <td>32.0</td>\n",
       "      <td>24.0</td>\n",
       "    </tr>\n",
       "    <tr>\n",
       "      <th>2</th>\n",
       "      <td>2024-01-01</td>\n",
       "      <td>78808</td>\n",
       "      <td>8.9833</td>\n",
       "      <td>-79.5500</td>\n",
       "      <td>66.0</td>\n",
       "      <td>33.0</td>\n",
       "      <td>25.0</td>\n",
       "    </tr>\n",
       "    <tr>\n",
       "      <th>3</th>\n",
       "      <td>2024-01-01</td>\n",
       "      <td>78922</td>\n",
       "      <td>14.7667</td>\n",
       "      <td>-60.8833</td>\n",
       "      <td>33.0</td>\n",
       "      <td>28.1</td>\n",
       "      <td>23.7</td>\n",
       "    </tr>\n",
       "    <tr>\n",
       "      <th>4</th>\n",
       "      <td>2024-01-01</td>\n",
       "      <td>78925</td>\n",
       "      <td>14.6000</td>\n",
       "      <td>-61.0000</td>\n",
       "      <td>5.0</td>\n",
       "      <td>30.0</td>\n",
       "      <td>22.0</td>\n",
       "    </tr>\n",
       "  </tbody>\n",
       "</table>\n",
       "</div>"
      ],
      "text/plain": [
       "        time station  latitude  longitude  elevation  tmax  tmin\n",
       "0 2024-01-01   69377    4.0700   -73.5500      378.0  31.2  21.0\n",
       "1 2024-01-01   78792    9.0500   -79.3667       45.0  32.0  24.0\n",
       "2 2024-01-01   78808    8.9833   -79.5500       66.0  33.0  25.0\n",
       "3 2024-01-01   78922   14.7667   -60.8833       33.0  28.1  23.7\n",
       "4 2024-01-01   78925   14.6000   -61.0000        5.0  30.0  22.0"
      ]
     },
     "execution_count": 5,
     "metadata": {},
     "output_type": "execute_result"
    }
   ],
   "source": [
    "\n",
    "# set specified domain to get weather station data, format (domain_top, domain_left), (domain_bottom, domain_right)\n",
    "stations = mt.Stations().bounds((DOMAIN[-1], DOMAIN[0]), (DOMAIN[2], DOMAIN[1])).fetch()\n",
    "\n",
    "station_df = []\n",
    "\n",
    "# loop into all stations\n",
    "for station_id, row in stations.iterrows():\n",
    "    \n",
    "    # get data for specified period\n",
    "    data = mt.Daily(station_id, start=START_DATE, end=END_DATE).fetch()\n",
    "    \n",
    "    # include weather station info\n",
    "    data['station'] = station_id\n",
    "    data['latitude'] = row.latitude\n",
    "    data['longitude'] = row.longitude\n",
    "    data['elevation'] = row.elevation\n",
    "    \n",
    "    # append DataFrame to current weather station\n",
    "    station_df.append(data)\n",
    "    \n",
    "# concat all stations\n",
    "daily_data = pd.concat(station_df, axis=0)\n",
    "\n",
    "to_select_colunms = ['time', 'station', 'latitude', 'longitude', 'elevation'] + VARIABLES\n",
    "# dropna and select columns\n",
    "\n",
    "try:\n",
    "    daily_data = daily_data.dropna(subset=VARIABLES).reset_index()\n",
    "    daily_data = daily_data.loc[:, to_select_colunms]\n",
    "    \n",
    "except KeyError as e:\n",
    "    raise KeyError(f\"there are variables not found in dataframe columns @ {e}\")\n",
    "    \n",
    "daily_data.head()"
   ]
  },
  {
   "cell_type": "code",
   "execution_count": 6,
   "id": "2925c0fa",
   "metadata": {},
   "outputs": [
    {
     "data": {
      "image/png": "[encoded data removed]",
      "text/plain": [
       "<Figure size 1080x576 with 1 Axes>"
      ]
     },
     "metadata": {
      "needs_background": "light"
     },
     "output_type": "display_data"
    }
   ],
   "source": [
    "# compute latitude/longitude as a Point object\n",
    "daily_data['geometry'] = daily_data.apply(lambda row: Point(row['longitude'], row['latitude']), axis=1)\n",
    "\n",
    "# simple plot\n",
    "gdf = gpd.GeoDataFrame(daily_data, geometry='geometry', crs=\"EPSG:4326\")\n",
    "\n",
    "fig, ax = plt.subplots(figsize=(15, 8))\n",
    "gdf.plot(ax=ax, markersize=5)\n",
    "plt.show()\n",
    "plt.close()"
   ]
  },
  {
   "cell_type": "markdown",
   "id": "cdcfe4e9",
   "metadata": {},
   "source": [
    "# Opening topography file"
   ]
  },
  {
   "cell_type": "markdown",
   "id": "4729c649",
   "metadata": {},
   "source": [
    "You can use another topography file, the final topo array must be in meters unit"
   ]
  },
  {
   "cell_type": "code",
   "execution_count": 7,
   "id": "43bbf859",
   "metadata": {},
   "outputs": [
    {
     "name": "stdout",
     "output_type": "stream",
     "text": [
      "\n",
      "Checking boundaries:\n",
      "    expected domain: [-80, -25, -60, 15]\n",
      "    lats: (-60.0, 15.0)\n",
      "    lons: (-80.0, -25.0)\n",
      "    \n",
      "CPU times: user 3.42 s, sys: 182 ms, total: 3.6 s\n",
      "Wall time: 3.6 s\n"
     ]
    },
    {
     "data": {
      "text/plain": [
       "<matplotlib.image.AxesImage at 0x76148f882dc0>"
      ]
     },
     "execution_count": 7,
     "metadata": {},
     "output_type": "execute_result"
    },
    {
     "data": {
      "image/png": "[encoded data removed]",
      "text/plain": [
       "<Figure size 432x288 with 1 Axes>"
      ]
     },
     "metadata": {
      "needs_background": "light"
     },
     "output_type": "display_data"
    }
   ],
   "source": [
    "%%time\n",
    "TOPO_PATHFILE = 'static/ETOPO2v2g_f4_0p01_origin.nc'\n",
    "\n",
    "if NC_ENGINE in ['netcdf4']:\n",
    "\n",
    "    #opening topography file\n",
    "    nc = Dataset(TOPO_PATHFILE, 'r')\n",
    "\n",
    "    # get coords\n",
    "    lats_ = nc.variables['y'][:]\n",
    "    lons_ = nc.variables['x'][:]\n",
    "\n",
    "    # find closest index in topography file\n",
    "    bounds_lon_idx = list(map(lambda coord: np.argmin(np.abs(coord-lons_)), DOMAIN[:2]))\n",
    "    bounds_lat_idx = list(map(lambda coord: np.argmin(np.abs(coord-lats_)), DOMAIN[2:]))\n",
    "\n",
    "    # lat and lon id bounds into a single list\n",
    "    domain_idx = bounds_lon_idx + bounds_lat_idx\n",
    "    # print(domain_idx)\n",
    "\n",
    "    # ensure close interval on right side\n",
    "    for bound_id, max_idx in zip([1, 3], [len(lons_), len(lats_)]):\n",
    "        if domain_idx[bound_id] < max_idx:\n",
    "            domain_idx[bound_id] += 1    \n",
    "\n",
    "\n",
    "    # open topo only in specified domain\n",
    "    topo = nc.variables['z'][domain_idx[2]:domain_idx[3],\n",
    "                             domain_idx[0]:domain_idx[1]]\n",
    "\n",
    "    lats_ = lats_[domain_idx[2]:domain_idx[3]]\n",
    "    lons_ = lons_[domain_idx[0]:domain_idx[1]]\n",
    "\n",
    "    nc.close()\n",
    "\n",
    "    # interpolate topo array to expected resolution\n",
    "    grid_lon_m, grid_lat_m = np.meshgrid(grid_lon, grid_lat)  # final grid coords\n",
    "    lon_m, lat_m = np.meshgrid(lons_, lats_)  # topo coords\n",
    "\n",
    "    # set topography points\n",
    "    topo_points = np.array([lat_m.ravel(), lon_m.ravel()]).T\n",
    "\n",
    "    # interpol topo to interpolated field resolution\n",
    "    topo = griddata(topo_points, topo.ravel(), (grid_lat_m, grid_lon_m), method='nearest')\n",
    "    \n",
    "elif NC_ENGINE in ['xarray']:\n",
    "    \n",
    "    ds = xr.open_dataset(TOPO_PATHFILE).sel(y=slice(grid_lat[0], grid_lat[-1]),\n",
    "                                            x=slice(grid_lon[0], grid_lon[-1]))\n",
    "    ds = ds.interp(y=grid_lat, x=grid_lon, method='nearest')\n",
    "    topo = ds['z'].values\n",
    "    lats_ = ds['y'].values\n",
    "    lons_ = ds['x'].values\n",
    "    \n",
    "else:\n",
    "    raise NotImplementedError(f\"engine {NC_ENGINE} not implemented\")\n",
    "    \n",
    "topo[topo < 0] = 0  # avoid negative altitudes\n",
    "print(\n",
    "    f\"\"\"\n",
    "Checking boundaries:\n",
    "    expected domain: {DOMAIN}\n",
    "    lats: {lats_[0], lats_[-1]}\n",
    "    lons: {lons_[0], lons_[-1]}\n",
    "    \"\"\"\n",
    "     )\n",
    "\n",
    "plt.imshow(topo[::-1])"
   ]
  },
  {
   "cell_type": "markdown",
   "id": "db9afd2d",
   "metadata": {},
   "source": [
    "# Uniform elevations functions"
   ]
  },
  {
   "cell_type": "code",
   "execution_count": 9,
   "id": "44132c32",
   "metadata": {},
   "outputs": [],
   "source": [
    "@np.vectorize\n",
    "def alt2ground(arr, topo):\n",
    "    '''\n",
    "    reduce station data from elevation to sea level\n",
    "    \n",
    "    :param arr: np.array (1D)  - weather station temperature values\n",
    "    :param topo: np.array (1D) - weather station elevation (in meters)\n",
    "    '''\n",
    "    return arr + LAPSE_RATE * (topo/1000)\n",
    "\n",
    "@np.vectorize\n",
    "def ground2alt(arr, topo):\n",
    "    '''\n",
    "    increse interpolation result to right elevation\n",
    "    \n",
    "    :param arr: np.array (2D)  - interpolated temperature values\n",
    "    :param topo: np.array (2D) - topography grid array (in meters)\n",
    "    '''\n",
    "    return arr - LAPSE_RATE * (topo/1000)"
   ]
  },
  {
   "cell_type": "markdown",
   "id": "6de107b6",
   "metadata": {},
   "source": [
    "# Applying interpol"
   ]
  },
  {
   "cell_type": "code",
   "execution_count": 12,
   "id": "c359baeb",
   "metadata": {},
   "outputs": [
    {
     "name": "stdout",
     "output_type": "stream",
     "text": [
      "starting tmax interpolation\n",
      "tmax interpolation done\n",
      "starting tmin interpolation\n",
      "tmin interpolation done\n"
     ]
    }
   ],
   "source": [
    "interpolated_ds = {}\n",
    "\n",
    "lats_ws = daily_data['latitude'].values\n",
    "lons_ws = daily_data['longitude'].values\n",
    "elevation_ws = daily_data['elevation'].values\n",
    "\n",
    "for variable in VARIABLES:\n",
    "    \n",
    "    print(f\"starting {variable} interpolation\")\n",
    "    values_ws = daily_data[variable].values\n",
    "    \n",
    "    if TEMPERATURE_VARS:\n",
    "        values_ws = alt2ground(values_ws, elevation_ws)\n",
    "        \n",
    "    grid_x, grid_y, grid = interpolate_to_grid(lons_ws,\n",
    "                                               lats_ws,\n",
    "                                               values_ws,\n",
    "                                               **interpol_kwargs)\n",
    "    \n",
    "    \n",
    "    if TEMPERATURE_VARS:\n",
    "        grid = ground2alt(grid, topo)\n",
    "        \n",
    "    interpolated_ds[variable] = grid\n",
    "    \n",
    "    print(f\"{variable} interpolation done\")"
   ]
  },
  {
   "cell_type": "code",
   "execution_count": 13,
   "id": "8351312b",
   "metadata": {},
   "outputs": [
    {
     "data": {
      "text/plain": [
       "<matplotlib.image.AxesImage at 0x76148f530280>"
      ]
     },
     "execution_count": 13,
     "metadata": {},
     "output_type": "execute_result"
    },
    {
     "data": {
      "image/png": "[encoded data removed]",
      "text/plain": [
       "<Figure size 432x288 with 1 Axes>"
      ]
     },
     "metadata": {
      "needs_background": "light"
     },
     "output_type": "display_data"
    }
   ],
   "source": [
    "plt.imshow(interpolated_ds[variable][::-1])"
   ]
  },
  {
   "cell_type": "code",
   "execution_count": null,
   "id": "d2ac04be",
   "metadata": {},
   "outputs": [],
   "source": []
  }
 ],
 "metadata": {
  "kernelspec": {
   "display_name": "metpy",
   "language": "python",
   "name": "metpy"
  },
  "language_info": {
   "codemirror_mode": {
    "name": "ipython",
    "version": 3
   },
   "file_extension": ".py",
   "mimetype": "text/x-python",
   "name": "python",
   "nbconvert_exporter": "python",
   "pygments_lexer": "ipython3",
   "version": "3.9.12"
  }
 },
 "nbformat": 4,
 "nbformat_minor": 5
}
